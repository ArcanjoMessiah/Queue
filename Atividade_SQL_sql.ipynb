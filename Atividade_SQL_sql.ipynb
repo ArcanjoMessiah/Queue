{
  "nbformat": 4,
  "nbformat_minor": 0,
  "metadata": {
    "colab": {
      "provenance": [],
      "authorship_tag": "ABX9TyN0i0fKJJgnEWEkAJUP7OUL",
      "include_colab_link": true
    },
    "kernelspec": {
      "name": "python3",
      "display_name": "Python 3"
    },
    "language_info": {
      "name": "python"
    }
  },
  "cells": [
    {
      "cell_type": "markdown",
      "metadata": {
        "id": "view-in-github",
        "colab_type": "text"
      },
      "source": [
        "<a href=\"https://colab.research.google.com/github/ArcanjoMessiah/Queue/blob/master/Atividade_SQL_sql.ipynb\" target=\"_parent\"><img src=\"https://colab.research.google.com/assets/colab-badge.svg\" alt=\"Open In Colab\"/></a>"
      ]
    },
    {
      "cell_type": "code",
      "execution_count": null,
      "metadata": {
        "colab": {
          "base_uri": "https://localhost:8080/"
        },
        "id": "Q8ThHDDgebJI",
        "outputId": "eab8b56a-a989-4df0-ee97-3271cb33960a"
      },
      "outputs": [
        {
          "output_type": "stream",
          "name": "stdout",
          "text": [
            "Tabela criada com sucesso.\n",
            "Tabela criada com sucesso.\n"
          ]
        }
      ],
      "source": [
        "# 02_create_schema.py\n",
        "import sqlite3\n",
        "# conectando...\n",
        "\n",
        "conn = sqlite3.connect('clientes.db')\n",
        "# definindo um cursor\n",
        "cursor = conn.cursor()\n",
        "\n",
        "# criando a tabela (schema)\n",
        "cursor.execute(\"\"\"\n",
        "CREATE TABLE  if not exists produto (\n",
        "        id INTEGER NOT NULL PRIMARY KEY AUTOINCREMENT,\n",
        "        nome TEXT NOT NULL,\n",
        "        codbarras INT(12) NOT NULL,\n",
        "        descricao TEXT NOT NULL,\n",
        "        preco_unitario FLOAT NOT NULL);\n",
        "\n",
        "\"\"\")\n",
        "print('Tabela criada com sucesso.')\n",
        "\n",
        "cursor.execute(\"\"\"\n",
        "\n",
        "CREATE TABLE  if not exists produto (\n",
        "        codcateg INTEGER NOT NULL PRIMARY KEY,\n",
        "        nome TEXT NOT NULL,\n",
        "        descricao TEXT NOT NULL);\n",
        "\n",
        "\n",
        "\"\"\")\n",
        "print('Tabela criada com sucesso.')"
      ]
    }
  ]
}